{
 "cells": [
  {
   "cell_type": "markdown",
   "metadata": {},
   "source": [
    "# Memahami Domain Waktu dan Domain Frekuensi dalam Sinyal\n",
    "\n",
    "**Bagian 1: Pemahaman Konsep**\n",
    "\n",
    "Menurut pemahaman saya, *domain waktu* adalah cara kita melihat sinyal berdasarkan perubahan nilainya terhadap waktu. Misalnya, jika kita merekam suara seseorang, lalu melihat gelombangnya di layar, itu menunjukkan bagaimana suara berubah dari detik ke detik.\n",
    "\n",
    "Sementara itu, *domain frekuensi* adalah cara melihat sinyal berdasarkan kandungan frekuensinya—berapa banyak komponen nada tinggi atau rendah yang membentuk suara tersebut. Jadi, kita tidak melihat *kapan* suara berubah, tetapi *apa saja isi nadanya*.\n",
    "\n",
    "Perbedaan utamanya adalah: domain waktu fokus pada perubahan sinyal seiring waktu, sedangkan domain frekuensi fokus pada isi spektrum sinyal. Keduanya sama-sama penting tergantung apa yang ingin kita analisis."
   ]
  },
  {
   "cell_type": "markdown",
   "metadata": {},
   "source": [
    "**Bagian 2: Contoh Konteks Lokal**\n",
    "\n",
    "Di kampus saya, ada masjid yang menggunakan speaker untuk adzan. Suara adzan ini bisa kita analisis dengan dua cara:\n",
    "\n",
    "- Dalam *domain waktu*, kita bisa melihat kapan suara naik turun, misalnya nada panjang saat “Allahu Akbar” atau jeda antar kalimat. Ini penting kalau kita ingin tahu durasi atau pola suara adzan.\n",
    "- Dalam *domain frekuensi*, kita bisa melihat seberapa tinggi atau rendah nada adzan. Misalnya, jika muadzin punya suara berat, frekuensinya lebih rendah. Analisis ini berguna kalau kita ingin menyesuaikan speaker agar suara terdengar jelas dan tidak pecah."
   ]
  },
  {
   "cell_type": "markdown",
   "metadata": {},
   "source": [
    "**Bagian 3: Analogi atau Perumpamaan Pribadi**\n",
    "\n",
    "Menurut saya, domain frekuensi itu seperti *membongkar masakan menjadi bahan-bahan dasarnya*. Misalnya, kita makan rendang, lalu mencoba menebak “Oh, ini ada santan, cabai, dan serai.” Sama seperti itu, sinyal dalam domain frekuensi dibongkar jadi komponen nada—seperti rendah, menengah, atau tinggi. Sedangkan domain waktu seperti melihat langkah memasak rendang dari awal sampai akhir—terlihat prosesnya."
   ]
  },
  {
   "cell_type": "markdown",
   "metadata": {},
   "source": [
    "**Lampiran Ilustrasi**\n",
    "\n",
    "_(Silakan tambahkan gambar sketsa manual, misalnya foto gelombang suara adzan dan spektrumnya, setelah meng-export ke PDF.)_"
   ]
  },
  {
   "cell_type": "markdown",
   "metadata": {},
   "source": [
    "**Pernyataan Orisinalitas**\n",
    "\n",
    "Saya menyatakan bahwa tugas ini adalah hasil pemahaman dan pemikiran pribadi saya, bukan salinan dari AI atau sumber lainnya."
   ]
  }
 ],
 "metadata": {
  "kernelspec": {
   "display_name": "Python 3",
   "language": "python",
   "name": "python3"
  },
  "language_info": {
   "name": "python",
   "version": "3.10"
  }
 },
 "nbformat": 4,
 "nbformat_minor": 2
}
